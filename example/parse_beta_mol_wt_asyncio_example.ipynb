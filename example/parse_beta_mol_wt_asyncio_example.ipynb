{
 "cells": [
  {
   "cell_type": "markdown",
   "source": [
    "Import important module for usage\n",
    "\n",
    "To install uniprotparser you can use pip with the following command\n",
    "\n",
    "```shell\n",
    "python -m pip install uniprotparser\n",
    "```"
   ],
   "metadata": {
    "collapsed": false,
    "pycharm": {
     "name": "#%% md\n"
    }
   }
  },
  {
   "cell_type": "code",
   "execution_count": null,
   "outputs": [],
   "source": [
    "from uniprotparser import betaparser\n",
    "import pandas as pd\n",
    "import asyncio\n",
    "import io"
   ],
   "metadata": {
    "collapsed": false,
    "pycharm": {
     "name": "#%%\n"
    }
   }
  },
  {
   "cell_type": "markdown",
   "source": [
    "Then load the file and create a set of uniprot accession id from the uniprot accession id column\n",
    "\n",
    "In this file the uniprot accession id column is `PG.ProteinGroups`\n",
    "\n",
    "Each entry in the column would first be split by `;` in order to parse all synonyms and variant of the protein. The parsed Uniprot accession would be added into `acc` `set`"
   ],
   "metadata": {
    "collapsed": false,
    "pycharm": {
     "name": "#%% md\n"
    }
   }
  },
  {
   "cell_type": "code",
   "execution_count": null,
   "outputs": [],
   "source": [
    "d = pd.read_csv(r\"C:\\Users\\Toan Phung\\Downloads\\test_Copies_02.txt\", sep=\"\\t\")\n",
    "acc = set()\n",
    "for a in d[\"PG.ProteinGroups\"]:\n",
    "    if pd.notnull(a):\n",
    "        for i in a.split(\";\"):\n",
    "            accession = betaparser.UniprotSequence(i.strip(), parse_acc=True)\n",
    "            if accession.accession:\n",
    "                acc.add(accession.accession)\n"
   ],
   "metadata": {
    "collapsed": false,
    "pycharm": {
     "name": "#%%\n"
    }
   }
  },
  {
   "cell_type": "markdown",
   "source": [
    "Using `UniprotParser` class to get Uniprot data from the Uniprot web database through its legacy REST api and return a `tab` file which is tabulated text format.\n",
    "\n",
    "The file would be read into a `pandas` DataFrame.\n",
    "\n",
    "However, differ to the synchronous method of parsing which use `requests` as the http client, asynchronous parsing requires the library `aiohttp` and with that it would also require a different syntax."
   ],
   "metadata": {
    "collapsed": false,
    "pycharm": {
     "name": "#%% md\n"
    }
   }
  },
  {
   "cell_type": "code",
   "execution_count": null,
   "outputs": [],
   "source": [
    "async def main():\n",
    "    parser = betaparser.UniprotParser()\n",
    "    df = []\n",
    "    async for r in parser.parse_async(ids=acc):\n",
    "        df.append(pd.read_csv(io.StringIO(r), sep=\"\\t\"))\n",
    "    # Again iterating through the original file, splitting the id and obtain accession from the entry. Check if the accession is in the obtain Uniprot data.\n",
    "    # If the accession is in, add the molecular weight to the original dataframe and move on to the next entry.\n",
    "    if len(df) > 0:\n",
    "        df = pd.concat(df, ignore_index=True)\n",
    "    else:\n",
    "        df = df[0]\n",
    "\n",
    "    for i, r in d.iterrows():\n",
    "        acc = r[\"PG.ProteinGroups\"].split(\";\")\n",
    "        for a in acc:\n",
    "            accession = parser.UniprotSequence(a.strip(), parse_acc=True)\n",
    "            df2 = df[df[\"Entry\"] == accession.accession]\n",
    "            for i2, r2 in df2.iterrows():\n",
    "                d.at[i, \"Mol.wt\"] = r2[\"Mass\"]\n",
    "                break\n",
    "    # Write the modified dataframe into another file.\n",
    "    d.to_csv(r\"C:\\Users\\Toan Phung\\Downloads\\test_Copies_02.txt\", index=False, sep=\"\\t\")\n",
    "\n",
    "asyncio.run(main())"
   ],
   "metadata": {
    "collapsed": false,
    "pycharm": {
     "name": "#%%\n"
    }
   }
  }
 ],
 "metadata": {
  "kernelspec": {
   "display_name": "Python 3",
   "language": "python",
   "name": "python3"
  },
  "language_info": {
   "codemirror_mode": {
    "name": "ipython",
    "version": 2
   },
   "file_extension": ".py",
   "mimetype": "text/x-python",
   "name": "python",
   "nbconvert_exporter": "python",
   "pygments_lexer": "ipython2",
   "version": "2.7.6"
  }
 },
 "nbformat": 4,
 "nbformat_minor": 0
}