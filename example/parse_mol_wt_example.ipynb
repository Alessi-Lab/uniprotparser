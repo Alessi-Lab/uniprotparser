{
 "cells": [
  {
   "cell_type": "markdown",
   "source": [
    "Import important module for usage\n",
    "\n",
    "To install uniprotparser you can use pip with the following command\n",
    "\n",
    "```shell\n",
    "python -m pip install uniprotparser\n",
    "```"
   ],
   "metadata": {
    "collapsed": false,
    "pycharm": {
     "name": "#%% md\n"
    }
   }
  },
  {
   "cell_type": "code",
   "execution_count": null,
   "outputs": [],
   "source": [
    "from uniprotparser import parser\n",
    "import pandas as pd\n",
    "import io"
   ],
   "metadata": {
    "collapsed": false,
    "pycharm": {
     "name": "#%%\n"
    }
   }
  },
  {
   "cell_type": "markdown",
   "source": [
    "Then load the file and create a set of uniprot accession id from the uniprot accession id column\n",
    "\n",
    "In this file the uniprot accession id column is `PG.ProteinGroups`\n",
    "\n",
    "Each entry in the column would first be split by `;` in order to parse all synonyms and variant of the protein. The parsed Uniprot accession would be added into `acc` `set`"
   ],
   "metadata": {
    "collapsed": false,
    "pycharm": {
     "name": "#%% md\n"
    }
   }
  },
  {
   "cell_type": "code",
   "execution_count": null,
   "outputs": [],
   "source": [
    "d = pd.read_csv(r\"C:\\Users\\Toan Phung\\Downloads\\test_Copies_02.txt\", sep=\"\\t\")\n",
    "acc = set()\n",
    "for a in d[\"PG.ProteinGroups\"]:\n",
    "    for i in a.split(\";\"):\n",
    "        accession = parser.UniprotSequence(i.strip(), parse_acc=True)\n",
    "        if accession.accession:\n",
    "            acc.add(accession)"
   ],
   "metadata": {
    "collapsed": false,
    "pycharm": {
     "name": "#%%\n"
    }
   }
  },
  {
   "cell_type": "markdown",
   "source": [
    "Using `UniprotParser` class to get Uniprot data from the Uniprot web database through its legacy REST api and return a `tab` file which is tabulated text format.\n",
    "\n",
    "The file would be read into a `pandas` DataFrame"
   ],
   "metadata": {
    "collapsed": false,
    "pycharm": {
     "name": "#%% md\n"
    }
   }
  },
  {
   "cell_type": "code",
   "execution_count": null,
   "outputs": [],
   "source": [
    "p = parser.UniprotParser(acc, unique=True)\n",
    "df = []\n",
    "for res in p.parse(\"tab\", \"post\"):\n",
    "    df.append(pd.read_csv(io.StringIO(res), sep=\"\\t\"))"
   ],
   "metadata": {
    "collapsed": false,
    "pycharm": {
     "name": "#%%\n"
    }
   }
  },
  {
   "cell_type": "markdown",
   "source": [
    "Again iterating through the original file, splitting the id and obtain accession from the entry. Check if the accession is in the obtain Uniprot data.\n",
    "\n",
    "If the accession is in, add the molecular weight to the original dataframe and move on to the next entry."
   ],
   "metadata": {
    "collapsed": false,
    "pycharm": {
     "name": "#%% md\n"
    }
   }
  },
  {
   "cell_type": "code",
   "execution_count": null,
   "outputs": [],
   "source": [
    "df = df[0]\n",
    "for i, r in d.iterrows():\n",
    "    acc = r[\"PG.ProteinGroups\"].split(\";\")\n",
    "    for a in acc:\n",
    "        accession = parser.UniprotSequence(a.strip(), parse_acc=True)\n",
    "        df2 = df[df[\"Entry\"] == accession.accession]\n",
    "        for i2, r2 in df2.iterrows():\n",
    "            d.at[i, \"Mol.wt\"] = r2[\"Mass\"]\n",
    "            break"
   ],
   "metadata": {
    "collapsed": false,
    "pycharm": {
     "name": "#%%\n"
    }
   }
  },
  {
   "cell_type": "markdown",
   "source": [
    "Write the modified dataframe into another file."
   ],
   "metadata": {
    "collapsed": false,
    "pycharm": {
     "name": "#%% md\n"
    }
   }
  },
  {
   "cell_type": "code",
   "execution_count": null,
   "outputs": [],
   "source": [
    "d.to_csv(r\"C:\\Users\\Toan Phung\\Downloads\\test_Copies_02.txt\", index=False, sep=\"\\t\")"
   ],
   "metadata": {
    "collapsed": false,
    "pycharm": {
     "name": "#%%\n"
    }
   }
  }
 ],
 "metadata": {
  "kernelspec": {
   "display_name": "Python 3",
   "language": "python",
   "name": "python3"
  },
  "language_info": {
   "codemirror_mode": {
    "name": "ipython",
    "version": 2
   },
   "file_extension": ".py",
   "mimetype": "text/x-python",
   "name": "python",
   "nbconvert_exporter": "python",
   "pygments_lexer": "ipython2",
   "version": "2.7.6"
  }
 },
 "nbformat": 4,
 "nbformat_minor": 0
}