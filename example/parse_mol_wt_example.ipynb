{
 "cells": [
  {
   "cell_type": "code",
   "execution_count": null,
   "metadata": {
    "collapsed": true,
    "pycharm": {
     "name": "#%%\n"
    }
   },
   "outputs": [],
   "source": [
    "from uniprotparser import parser\n",
    "import pandas as pd\n",
    "import io"
   ]
  },
  {
   "cell_type": "code",
   "execution_count": null,
   "outputs": [],
   "source": [
    "d = pd.read_csv(r\"C:\\Users\\Toan Phung\\Downloads\\test_Copies_02.txt\", sep=\"\\t\")\n",
    "acc = set()\n",
    "for a in d[\"PG.ProteinGroups\"]:\n",
    "    for i in a.split(\";\"):\n",
    "        accession = parser.UniprotSequence(i.strip(), parse_acc=True)\n",
    "        if accession.accession:\n",
    "            acc.add(accession)"
   ],
   "metadata": {
    "collapsed": false,
    "pycharm": {
     "name": "#%%\n"
    }
   }
  },
  {
   "cell_type": "code",
   "execution_count": null,
   "outputs": [],
   "source": [
    "p = parser.UniprotParser(acc, unique=True)\n",
    "df = []\n",
    "for res in p.parse(\"tab\", \"post\"):\n",
    "    df.append(pd.read_csv(io.StringIO(res), sep=\"\\t\"))"
   ],
   "metadata": {
    "collapsed": false,
    "pycharm": {
     "name": "#%%\n"
    }
   }
  },
  {
   "cell_type": "code",
   "execution_count": null,
   "outputs": [],
   "source": [
    "df = df[0]\n",
    "for i, r in d.iterrows():\n",
    "    acc = r[\"Protein.Group\"].split(\";\")\n",
    "    for a in acc:\n",
    "        ac = a.split(\"-\")[0]\n",
    "        df2 = df[df[\"Entry\"] == ac]\n",
    "        for i2, r2 in df2.iterrows():\n",
    "            d.at[i, \"Mol.wt\"] = r2[\"Mass\"]\n",
    "            break"
   ],
   "metadata": {
    "collapsed": false,
    "pycharm": {
     "name": "#%%\n"
    }
   }
  },
  {
   "cell_type": "code",
   "execution_count": null,
   "outputs": [],
   "source": [
    "d.to_csv(r\"C:\\Users\\Toan Phung\\Downloads\\test_Copies_02.txt\", index=False, sep=\"\\t\")"
   ],
   "metadata": {
    "collapsed": false,
    "pycharm": {
     "name": "#%%\n"
    }
   }
  }
 ],
 "metadata": {
  "kernelspec": {
   "display_name": "Python 3",
   "language": "python",
   "name": "python3"
  },
  "language_info": {
   "codemirror_mode": {
    "name": "ipython",
    "version": 2
   },
   "file_extension": ".py",
   "mimetype": "text/x-python",
   "name": "python",
   "nbconvert_exporter": "python",
   "pygments_lexer": "ipython2",
   "version": "2.7.6"
  }
 },
 "nbformat": 4,
 "nbformat_minor": 0
}